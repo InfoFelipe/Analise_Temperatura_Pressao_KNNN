{
 "cells": [
  {
   "cell_type": "markdown",
   "id": "4f76bdfb-6437-44db-bdb5-c956cd1c1cf1",
   "metadata": {},
   "source": [
    "### Demonstração do Algoritmo de classificação binária"
   ]
  },
  {
   "cell_type": "markdown",
   "id": "430e66ea-556c-4f11-986c-0a59bd4fc1ab",
   "metadata": {},
   "source": [
    "#### Os algoritmos de classificação binária dividem os dados em duas categorias. Esse algoritmos são úteis para problemas que possuem duas repostas que são mutuamente exclusivas, como exemplo perguntas com repostas sim ou não.\n",
    "#### * A conservação de um determinado alimento durará 3 meses em um ambiente resfriado a 30° celsius? Sim ou Não\n",
    "#### * O que retorna mais lucro: valor de ajuste de preço ou desconto para o produto?"
   ]
  },
  {
   "cell_type": "markdown",
   "id": "65b5fd6c-a9cc-4edf-8843-eda7151cf86f",
   "metadata": {},
   "source": [
    "#### Para realizar o processo de classificação iremos utilizar o algoritmo KNN(K-Nearest Neighbors). O algoritmo KNN classifica novos dados com base em uma medida de similaridade entre seus “vizinhos” mais próximos, ou seja, aqueles que têm características semelhantes às suas.\n",
    "#### O algoritmo KNN pressupõe que itens semelhantes estão próximos um dos outros, então tenta encaixar o dado em questão nos conjuntos de seus vizinhos. O que vai mudar é o valor de K, a primeira letra da sigla, que vai ser a distância entre o dado e os seus vizinhos. Quanto menor a distância, mais chance de serem mais semelhantes.\n",
    "#### * Exemplo: "
   ]
  },
  {
   "cell_type": "code",
   "execution_count": 1,
   "id": "bfef0d28-daec-4948-bc48-b56b96e484ff",
   "metadata": {},
   "outputs": [],
   "source": [
    "import pandas as pd # biblioteca para manipulação de dados\n",
    "import matplotlib.pyplot as plt # construção de gráficos\n",
    "\n",
    "from sklearn import model_selection # Biblioteca com função para divisão dos dados\n",
    "from sklearn.neighbors import KNeighborsClassifier # Algoritmo KNN\n",
    "from sklearn.metrics import confusion_matrix # Função para matriz de decisão\n",
    "from sklearn.metrics import accuracy_score # Função para calculo de acurácia"
   ]
  },
  {
   "cell_type": "code",
   "execution_count": 2,
   "id": "6b0d0224-c423-4694-b56d-c219bf437280",
   "metadata": {},
   "outputs": [],
   "source": [
    "arquivo_url = \"dados.csv\""
   ]
  },
  {
   "cell_type": "code",
   "execution_count": 3,
   "id": "4362c18f-e01d-4058-9087-efc92ceb3a6a",
   "metadata": {},
   "outputs": [],
   "source": [
    "names = [\"Temperatura(C°)\", \"Pressão(bar)\", \"Classe\"]"
   ]
  },
  {
   "cell_type": "code",
   "execution_count": 4,
   "id": "82e9b1c1-d196-4614-9a86-1110e0130dcd",
   "metadata": {},
   "outputs": [],
   "source": [
    "df = pd.read_csv(arquivo_url, names=names)"
   ]
  },
  {
   "cell_type": "code",
   "execution_count": 6,
   "id": "e5c98ab2-135e-468b-b884-dc9fdbf0aac6",
   "metadata": {},
   "outputs": [
    {
     "data": {
      "text/html": [
       "<div>\n",
       "<style scoped>\n",
       "    .dataframe tbody tr th:only-of-type {\n",
       "        vertical-align: middle;\n",
       "    }\n",
       "\n",
       "    .dataframe tbody tr th {\n",
       "        vertical-align: top;\n",
       "    }\n",
       "\n",
       "    .dataframe thead th {\n",
       "        text-align: right;\n",
       "    }\n",
       "</style>\n",
       "<table border=\"1\" class=\"dataframe\">\n",
       "  <thead>\n",
       "    <tr style=\"text-align: right;\">\n",
       "      <th></th>\n",
       "      <th>Temperatura(C°)</th>\n",
       "      <th>Pressão(bar)</th>\n",
       "      <th>Classe</th>\n",
       "    </tr>\n",
       "  </thead>\n",
       "  <tbody>\n",
       "    <tr>\n",
       "      <th>0</th>\n",
       "      <td>74.043405</td>\n",
       "      <td>6.124853</td>\n",
       "      <td>0</td>\n",
       "    </tr>\n",
       "    <tr>\n",
       "      <th>1</th>\n",
       "      <td>275.321247</td>\n",
       "      <td>4.854299</td>\n",
       "      <td>0</td>\n",
       "    </tr>\n",
       "    <tr>\n",
       "      <th>2</th>\n",
       "      <td>281.119343</td>\n",
       "      <td>2.655200</td>\n",
       "      <td>1</td>\n",
       "    </tr>\n",
       "    <tr>\n",
       "      <th>3</th>\n",
       "      <td>248.928634</td>\n",
       "      <td>4.220856</td>\n",
       "      <td>1</td>\n",
       "    </tr>\n",
       "    <tr>\n",
       "      <th>4</th>\n",
       "      <td>184.854345</td>\n",
       "      <td>6.589066</td>\n",
       "      <td>1</td>\n",
       "    </tr>\n",
       "    <tr>\n",
       "      <th>...</th>\n",
       "      <td>...</td>\n",
       "      <td>...</td>\n",
       "      <td>...</td>\n",
       "    </tr>\n",
       "    <tr>\n",
       "      <th>195</th>\n",
       "      <td>322.439280</td>\n",
       "      <td>4.192454</td>\n",
       "      <td>0</td>\n",
       "    </tr>\n",
       "    <tr>\n",
       "      <th>196</th>\n",
       "      <td>351.894223</td>\n",
       "      <td>2.938331</td>\n",
       "      <td>1</td>\n",
       "    </tr>\n",
       "    <tr>\n",
       "      <th>197</th>\n",
       "      <td>152.052504</td>\n",
       "      <td>6.326105</td>\n",
       "      <td>0</td>\n",
       "    </tr>\n",
       "    <tr>\n",
       "      <th>198</th>\n",
       "      <td>214.694815</td>\n",
       "      <td>4.841906</td>\n",
       "      <td>1</td>\n",
       "    </tr>\n",
       "    <tr>\n",
       "      <th>199</th>\n",
       "      <td>227.005391</td>\n",
       "      <td>6.939846</td>\n",
       "      <td>1</td>\n",
       "    </tr>\n",
       "  </tbody>\n",
       "</table>\n",
       "<p>200 rows × 3 columns</p>\n",
       "</div>"
      ],
      "text/plain": [
       "     Temperatura(C°)  Pressão(bar)  Classe\n",
       "0          74.043405      6.124853       0\n",
       "1         275.321247      4.854299       0\n",
       "2         281.119343      2.655200       1\n",
       "3         248.928634      4.220856       1\n",
       "4         184.854345      6.589066       1\n",
       "..               ...           ...     ...\n",
       "195       322.439280      4.192454       0\n",
       "196       351.894223      2.938331       1\n",
       "197       152.052504      6.326105       0\n",
       "198       214.694815      4.841906       1\n",
       "199       227.005391      6.939846       1\n",
       "\n",
       "[200 rows x 3 columns]"
      ]
     },
     "execution_count": 6,
     "metadata": {},
     "output_type": "execute_result"
    }
   ],
   "source": [
    "array = pd.DataFrame(df)\n",
    "array"
   ]
  },
  {
   "cell_type": "code",
   "execution_count": null,
   "id": "a1732795-2237-478a-8027-b71e835669a5",
   "metadata": {},
   "outputs": [],
   "source": []
  },
  {
   "cell_type": "code",
   "execution_count": null,
   "id": "2f597bcc-e2c5-4e16-8f08-fc48aedd55a1",
   "metadata": {},
   "outputs": [],
   "source": []
  },
  {
   "cell_type": "code",
   "execution_count": null,
   "id": "8760f076-add4-42a0-9968-eeb3abaa0b22",
   "metadata": {},
   "outputs": [],
   "source": []
  }
 ],
 "metadata": {
  "kernelspec": {
   "display_name": "Python 3 (ipykernel)",
   "language": "python",
   "name": "python3"
  },
  "language_info": {
   "codemirror_mode": {
    "name": "ipython",
    "version": 3
   },
   "file_extension": ".py",
   "mimetype": "text/x-python",
   "name": "python",
   "nbconvert_exporter": "python",
   "pygments_lexer": "ipython3",
   "version": "3.10.9"
  }
 },
 "nbformat": 4,
 "nbformat_minor": 5
}
