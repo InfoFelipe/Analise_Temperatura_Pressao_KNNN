{
 "cells": [
  {
   "cell_type": "markdown",
   "id": "4f76bdfb-6437-44db-bdb5-c956cd1c1cf1",
   "metadata": {},
   "source": [
    "### Demonstração do Algoritmo de classificação binária"
   ]
  },
  {
   "cell_type": "markdown",
   "id": "430e66ea-556c-4f11-986c-0a59bd4fc1ab",
   "metadata": {},
   "source": [
    "#### Os algoritmos de classificação binária dividem os dados em duas categorias. Esse algoritmos são úteis para problemas que possuem duas repostas que são mutuamente exclusivas, como exemplo perguntas com repostas sim ou não.\n",
    "#### * A conservação de um determinado alimento durará 3 meses em um ambiente resfriado a 30° celsius? Sim ou Não\n",
    "#### * O que retorna mais lucro: valor de ajuste de preço ou desconto para o produto?"
   ]
  },
  {
   "cell_type": "markdown",
   "id": "65b5fd6c-a9cc-4edf-8843-eda7151cf86f",
   "metadata": {},
   "source": [
    "#### Para realizar o processo de classificação iremos utilizar o algoritmo KNN(K-Nearest Neighbors). O algoritmo KNN classifica novos dados com base em uma medida de similaridade entre seus “vizinhos” mais próximos, ou seja, aqueles que têm características semelhantes às suas.\n",
    "#### O algoritmo KNN pressupõe que itens semelhantes estão próximos um dos outros, então tenta encaixar o dado em questão nos conjuntos de seus vizinhos. O que vai mudar é o valor de K, a primeira letra da sigla, que vai ser a distância entre o dado e os seus vizinhos. Quanto menor a distância, mais chance de serem mais semelhantes.\n",
    "#### * Exemplo: "
   ]
  },
  {
   "cell_type": "code",
   "execution_count": null,
   "id": "bfef0d28-daec-4948-bc48-b56b96e484ff",
   "metadata": {},
   "outputs": [],
   "source": [
    "import pandas as pd # biblioteca para manipulação de dados\n",
    "import matplotlib.pyplot as plt # construção de gráficos\n",
    "\n",
    "from sklearn import model_selection # Biblioteca com função para divisão dos dados\n",
    "from sklearn.neighbors import KNeighborsClassifier # Algoritmo KNN\n",
    "from sklearn.metrics import confusion_matrix # Função para matriz de decisão\n",
    "from sklearn.metrics import accuracy_score # Função para calculo de acurácia"
   ]
  },
  {
   "cell_type": "code",
   "execution_count": null,
   "id": "6b0d0224-c423-4694-b56d-c219bf437280",
   "metadata": {},
   "outputs": [],
   "source": [
    "arquivo_url = \"dados.csv\""
   ]
  },
  {
   "cell_type": "code",
   "execution_count": null,
   "id": "4362c18f-e01d-4058-9087-efc92ceb3a6a",
   "metadata": {},
   "outputs": [],
   "source": [
    "names = [\"Temperatura(C°)\", \"Pressão(bar)\", \"Classe\"]"
   ]
  },
  {
   "cell_type": "code",
   "execution_count": null,
   "id": "82e9b1c1-d196-4614-9a86-1110e0130dcd",
   "metadata": {},
   "outputs": [],
   "source": [
    "df = pd.read_csv(arquivo_url, names=names)"
   ]
  },
  {
   "cell_type": "code",
   "execution_count": null,
   "id": "e5c98ab2-135e-468b-b884-dc9fdbf0aac6",
   "metadata": {},
   "outputs": [],
   "source": [
    "array = pd.DataFrame(df)\n",
    "array"
   ]
  },
  {
   "cell_type": "code",
   "execution_count": null,
   "id": "a1732795-2237-478a-8027-b71e835669a5",
   "metadata": {},
   "outputs": [],
   "source": []
  },
  {
   "cell_type": "code",
   "execution_count": null,
   "id": "2f597bcc-e2c5-4e16-8f08-fc48aedd55a1",
   "metadata": {},
   "outputs": [],
   "source": []
  },
  {
   "cell_type": "code",
   "execution_count": null,
   "id": "8760f076-add4-42a0-9968-eeb3abaa0b22",
   "metadata": {},
   "outputs": [],
   "source": []
  }
 ],
 "metadata": {
  "kernelspec": {
   "display_name": "Python 3 (ipykernel)",
   "language": "python",
   "name": "python3"
  },
  "language_info": {
   "codemirror_mode": {
    "name": "ipython",
    "version": 3
   },
   "file_extension": ".py",
   "mimetype": "text/x-python",
   "name": "python",
   "nbconvert_exporter": "python",
   "pygments_lexer": "ipython3",
   "version": "3.10.9"
  }
 },
 "nbformat": 4,
 "nbformat_minor": 5
}
